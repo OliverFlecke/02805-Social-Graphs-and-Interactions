{
 "cells": [
  {
   "cell_type": "markdown",
   "metadata": {},
   "source": [
    "# Week 04 exercises"
   ]
  },
  {
   "cell_type": "markdown",
   "metadata": {},
   "source": [
    "## Regular expressions\n",
    "\n",
    "Regular expressions is a standardized method to search strings for patterns."
   ]
  },
  {
   "cell_type": "code",
   "execution_count": 10,
   "metadata": {},
   "outputs": [],
   "source": [
    "import re"
   ]
  },
  {
   "cell_type": "code",
   "execution_count": 15,
   "metadata": {},
   "outputs": [
    {
     "name": "stdout",
     "output_type": "stream",
     "text": [
      "['1234', '9999', '2345']\n",
      "['superpolaroid', 'supertaxidermy', 'superbeer']\n"
     ]
    }
   ],
   "source": [
    "with open('../socialgraphs2018/files/test.txt', 'r') as f:\n",
    "    content = ''.join(f.readlines())\n",
    "    \n",
    "print(re.findall(r'\\d\\d\\d\\d', content))\n",
    "print(re.findall(r'[Ss]uper\\w*', content))"
   ]
  },
  {
   "cell_type": "markdown",
   "metadata": {},
   "source": [
    "Finding wiki links in the text"
   ]
  },
  {
   "cell_type": "code",
   "execution_count": 43,
   "metadata": {},
   "outputs": [
    {
     "name": "stdout",
     "output_type": "stream",
     "text": [
      "0 [[drinking vinegar]]\n",
      "1 [[gentrify]]\n",
      "2 [[hashtag]]\n",
      "3 [[Bicycle|Bicycle(two-wheeled type)]]\n",
      "4 [[Pitchfork|Pitchfork Magazine]]\n"
     ]
    }
   ],
   "source": [
    "links = re.findall(r'\\[\\[.*?\\]\\]', content)\n",
    "for i, link in enumerate(links):\n",
    "    print(i, link)"
   ]
  },
  {
   "cell_type": "code",
   "execution_count": null,
   "metadata": {},
   "outputs": [],
   "source": []
  }
 ],
 "metadata": {
  "kernelspec": {
   "display_name": "Python 3",
   "language": "python",
   "name": "python3"
  },
  "language_info": {
   "codemirror_mode": {
    "name": "ipython",
    "version": 3
   },
   "file_extension": ".py",
   "mimetype": "text/x-python",
   "name": "python",
   "nbconvert_exporter": "python",
   "pygments_lexer": "ipython3",
   "version": "3.7.0"
  }
 },
 "nbformat": 4,
 "nbformat_minor": 2
}
