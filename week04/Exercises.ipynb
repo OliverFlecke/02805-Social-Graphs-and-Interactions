{
 "cells": [
  {
   "cell_type": "markdown",
   "metadata": {},
   "source": [
    "# Part A: Study the composition of the US congress"
   ]
  },
  {
   "cell_type": "code",
   "execution_count": 1,
   "metadata": {},
   "outputs": [],
   "source": [
    "import pandas as pd\n",
    "import numpy as np\n",
    "import matplotlib.pyplot as plt\n",
    "%matplotlib inline\n",
    "import re\n",
    "import os"
   ]
  },
  {
   "cell_type": "code",
   "execution_count": 2,
   "metadata": {},
   "outputs": [],
   "source": [
    "files = [os.path.join('data', f) for f in ['H113.csv', 'H114.csv', 'H115.csv']]"
   ]
  },
  {
   "cell_type": "code",
   "execution_count": 3,
   "metadata": {},
   "outputs": [],
   "source": [
    "dfs = [pd.read_csv(f) for f in files]\n",
    "\n",
    "for i, n in enumerate(range(113, 116)):\n",
    "    dfs[i]['congress_number'] = n"
   ]
  },
  {
   "cell_type": "code",
   "execution_count": 4,
   "metadata": {},
   "outputs": [],
   "source": [
    "# Concating the three congresses to get the members\n",
    "all_members = pd.concat(dfs).reset_index(drop=True)"
   ]
  },
  {
   "cell_type": "code",
   "execution_count": 5,
   "metadata": {},
   "outputs": [
    {
     "data": {
      "image/png": "[encoded data removed]",
      "text/plain": [
       "<Figure size 432x288 with 1 Axes>"
      ]
     },
     "metadata": {
      "needs_background": "light"
     },
     "output_type": "display_data"
    }
   ],
   "source": [
    "congress_sizes = all_members.groupby('congress_number').size()\n",
    "congress_sizes.plot()\n",
    "plt.show()"
   ]
  },
  {
   "cell_type": "markdown",
   "metadata": {},
   "source": [
    "I expected the number to be constant. Moreover, I would also expect the number to be uneven, so ties cannot occure."
   ]
  },
  {
   "cell_type": "code",
   "execution_count": 6,
   "metadata": {},
   "outputs": [
    {
     "ename": "NameError",
     "evalue": "name 'groups' is not defined",
     "output_type": "error",
     "traceback": [
      "\u001b[1;31m---------------------------------------------------------------------------\u001b[0m",
      "\u001b[1;31mNameError\u001b[0m                                 Traceback (most recent call last)",
      "\u001b[1;32m<ipython-input-6-e377ec2e8534>\u001b[0m in \u001b[0;36m<module>\u001b[1;34m()\u001b[0m\n\u001b[1;32m----> 1\u001b[1;33m \u001b[0mtimes_in_congress\u001b[0m \u001b[1;33m=\u001b[0m \u001b[0mgroups\u001b[0m\u001b[1;33m.\u001b[0m\u001b[0msize\u001b[0m\u001b[1;33m(\u001b[0m\u001b[1;33m)\u001b[0m\u001b[1;33m.\u001b[0m\u001b[0msort_values\u001b[0m\u001b[1;33m(\u001b[0m\u001b[1;33m)\u001b[0m\u001b[1;33m\u001b[0m\u001b[0m\n\u001b[0m",
      "\u001b[1;31mNameError\u001b[0m: name 'groups' is not defined"
     ]
    }
   ],
   "source": [
    "times_in_congress = groups.size().sort_values()"
   ]
  },
  {
   "cell_type": "code",
   "execution_count": null,
   "metadata": {},
   "outputs": [],
   "source": [
    "result = times_in_congress.groupby(times_in_congress).size()\n",
    "result.plot('bar')\n",
    "plt.show()"
   ]
  },
  {
   "cell_type": "markdown",
   "metadata": {},
   "source": [
    "States represented in the house of representatives."
   ]
  },
  {
   "cell_type": "code",
   "execution_count": null,
   "metadata": {},
   "outputs": [],
   "source": [
    "state_sizes = all_members.groupby('State').size().sort_values()\n",
    "state_sizes.plot('bar', figsize=(22, 5))\n",
    "plt.show()"
   ]
  },
  {
   "cell_type": "markdown",
   "metadata": {},
   "source": [
    "The composition of the house of representatives over time"
   ]
  },
  {
   "cell_type": "code",
   "execution_count": null,
   "metadata": {},
   "outputs": [],
   "source": [
    "grouped_parties = all_members.groupby(['Party', 'congress_number'])\n",
    "parties = pd.DataFrame({\n",
    "    'Demotratic': [group.size for key, group in grouped_parties if key[0] == 'Democratic'],\n",
    "    'Republican': [group.size for key, group in grouped_parties if key[0] == 'Republican']\n",
    "}, index = sorted(list(set([key[1] for key, _ in grouped_parties]))))\n",
    "parties.plot(kind='bar')\n",
    "plt.show()"
   ]
  },
  {
   "cell_type": "markdown",
   "metadata": {},
   "source": [
    "# Part B: Download the wikipedia pages of politicians"
   ]
  },
  {
   "cell_type": "code",
   "execution_count": null,
   "metadata": {},
   "outputs": [],
   "source": [
    "import json\n",
    "import requests\n",
    "import os\n",
    "from datetime import datetime\n",
    "\n",
    "endpoint = 'https://en.wikipedia.org/w/api.php'\n",
    "\n",
    "def getWiki(query, start, end):\n",
    "    action = 'action=query'\n",
    "    title = 'titles=%s' % query\n",
    "    content = 'prop=revisions&rvprop=timestamp|content'\n",
    "    dataformat = 'format=json'\n",
    "    \n",
    "    rvdir = 'rvdir=older'\n",
    "    start = 'rvstart=' + start.isoformat() + 'Z'\n",
    "    end = 'rvend=' + end.isoformat() + 'Z'\n",
    "    limit = 'rvlimit=1'\n",
    "    rvslots = 'rvslots=main'\n",
    "    \n",
    "    url = endpoint + '?' + '&'.join([\n",
    "        action, title, content, dataformat,\n",
    "        rvdir, start, end, limit\n",
    "    ])\n",
    "    \n",
    "    return requests.get(url)"
   ]
  },
  {
   "cell_type": "code",
   "execution_count": null,
   "metadata": {},
   "outputs": [],
   "source": [
    "# Test request\n",
    "response = getWiki('John_Dingell', datetime(2015, 1, 3), datetime(2013, 1, 3))"
   ]
  },
  {
   "cell_type": "code",
   "execution_count": null,
   "metadata": {},
   "outputs": [],
   "source": [
    "def savePage(response, path):\n",
    "    content = list(response.json()['query']['pages'].values())[0]\n",
    "    filename = content['title']\n",
    "    path = os.path.join('data', path)\n",
    "\n",
    "    if not os.path.isdir(path):\n",
    "        os.makedirs(path)\n",
    "        \n",
    "    with open(os.path.join(path, filename), 'w') as f:\n",
    "        json.dump(content, f)"
   ]
  },
  {
   "cell_type": "code",
   "execution_count": null,
   "metadata": {},
   "outputs": [],
   "source": [
    "# for names in [x.groupby(['WikiPageName', 'congress_number']) for x in df]:\n",
    "def getAllWikisForCongress(data, start, end):\n",
    "    for key, group in data.groupby(['WikiPageName', 'congress_number']):\n",
    "        name = key[0]\n",
    "        congress = str(key[1])\n",
    "        savePage(getWiki(name, start, end), congress)"
   ]
  },
  {
   "cell_type": "code",
   "execution_count": null,
   "metadata": {},
   "outputs": [],
   "source": [
    "# NOTE: Only run this to refresh the data from wikipedia!\n",
    "getAllWikisForCongress(df[0], datetime(2015, 1, 3), datetime(2013, 1, 3))\n",
    "getAllWikisForCongress(df[1], datetime(2017, 1, 3), datetime(2015, 1, 3))\n",
    "getAllWikisForCongress(df[2], datetime(2019, 1, 3), datetime(2017, 1, 3))"
   ]
  },
  {
   "cell_type": "markdown",
   "metadata": {},
   "source": [
    "# Part C: Building the networks"
   ]
  },
  {
   "cell_type": "code",
   "execution_count": null,
   "metadata": {},
   "outputs": [],
   "source": [
    "import networkx as nx"
   ]
  },
  {
   "cell_type": "code",
   "execution_count": null,
   "metadata": {},
   "outputs": [],
   "source": [
    "members_names = df[0].groupby('WikiPageName')['WikiPageName'].groups"
   ]
  },
  {
   "cell_type": "code",
   "execution_count": null,
   "metadata": {},
   "outputs": [],
   "source": [
    "def getFileContent(name, congress_number):\n",
    "    with open(os.path.join('data', str(congress_number), str(name)), 'r') as f:\n",
    "        content = json.load(f)\n",
    "        \n",
    "    return content['revisions'][0]['*']"
   ]
  },
  {
   "cell_type": "code",
   "execution_count": null,
   "metadata": {},
   "outputs": [],
   "source": [
    "def findLinks(content):\n",
    "    for link in re.findall(r'\\[\\[(.*?)\\]\\]', content):\n",
    "        yield re.sub('\\|.*', '', link)"
   ]
  },
  {
   "cell_type": "code",
   "execution_count": null,
   "metadata": {},
   "outputs": [],
   "source": [
    "def isCongressMember(name, members_names):\n",
    "    name = re.sub(r'\\ ', '_', name)\n",
    "    return name in members_names"
   ]
  },
  {
   "cell_type": "code",
   "execution_count": null,
   "metadata": {},
   "outputs": [],
   "source": [
    "def getCongressConnections(name, congress_number):\n",
    "    content = getFileContent(re.sub('_', ' ', name), congress_number)\n",
    "    links = findLinks(content)\n",
    "    for x in links:\n",
    "        if isCongressMember(x, members_names):\n",
    "            yield x"
   ]
  },
  {
   "cell_type": "code",
   "execution_count": null,
   "metadata": {},
   "outputs": [],
   "source": [
    "def getEdges():\n",
    "    for member in members_names:\n",
    "        for other in getCongressConnections(member, 113):\n",
    "            yield member, other"
   ]
  },
  {
   "cell_type": "code",
   "execution_count": null,
   "metadata": {},
   "outputs": [],
   "source": [
    "connections = list(getEdges())\n",
    "\n",
    "G = nx.DiGraph()\n",
    "G.add_edges_from(connections)"
   ]
  },
  {
   "cell_type": "code",
   "execution_count": null,
   "metadata": {},
   "outputs": [],
   "source": [
    "nx.draw(G, node_size=30, edge_color='#9A9A9A')"
   ]
  },
  {
   "cell_type": "code",
   "execution_count": null,
   "metadata": {},
   "outputs": [],
   "source": [
    "print('Number of nodes:', len(G.nodes))\n",
    "print('Number of edges:', len(G.edges))"
   ]
  },
  {
   "cell_type": "code",
   "execution_count": null,
   "metadata": {},
   "outputs": [],
   "source": [
    "def plotHistogram(data):\n",
    "    d_min = min(data)\n",
    "    d_max = max(data)\n",
    "\n",
    "    print('d_min:', d_min, 'd_max:', d_max)\n",
    "\n",
    "    hist, bins = np.histogram(data, bins=max(d_max - d_min, 1))\n",
    "    width = 0.7 * (bins[1] - bins[0])\n",
    "    center = (bins[:-1] + bins[1:]) / 2\n",
    "    plt.bar(center, hist, align='center', width=width)\n",
    "    plt.show()"
   ]
  },
  {
   "cell_type": "code",
   "execution_count": null,
   "metadata": {},
   "outputs": [],
   "source": [
    "plotHistogram([x[1] for x in G.out_degree()])"
   ]
  },
  {
   "cell_type": "code",
   "execution_count": null,
   "metadata": {},
   "outputs": [],
   "source": [
    "plotHistogram([x[1] for x in G.in_degree()])"
   ]
  },
  {
   "cell_type": "code",
   "execution_count": null,
   "metadata": {},
   "outputs": [],
   "source": [
    "sorted(G.in_degree(), key=lambda x: x[1], reverse=True)"
   ]
  }
 ],
 "metadata": {
  "kernelspec": {
   "display_name": "Python 3",
   "language": "python",
   "name": "python3"
  },
  "language_info": {
   "codemirror_mode": {
    "name": "ipython",
    "version": 3
   },
   "file_extension": ".py",
   "mimetype": "text/x-python",
   "name": "python",
   "nbconvert_exporter": "python",
   "pygments_lexer": "ipython3",
   "version": "3.7.0"
  }
 },
 "nbformat": 4,
 "nbformat_minor": 2
}
