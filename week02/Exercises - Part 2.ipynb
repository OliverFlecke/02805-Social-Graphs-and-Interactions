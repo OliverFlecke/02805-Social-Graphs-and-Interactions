{
 "cells": [
  {
   "cell_type": "markdown",
   "metadata": {},
   "source": [
    "# Week 02 exercises"
   ]
  },
  {
   "cell_type": "markdown",
   "metadata": {},
   "source": [
    "- *a* can be drawn without raising the pencil, as it only have two nodes with odd degree.\n",
    "- *b* cannot be drawn as it has more than two nodes with odd degree.\n",
    "- *c* can be drawn, as every vertex has either degree two or four. \n",
    "- *d* can also be draw, as only two vertexes has odd degree (the ones in the lower right cornor)"
   ]
  },
  {
   "cell_type": "code",
   "execution_count": 25,
   "metadata": {},
   "outputs": [
    {
     "data": {
      "image/png": "[encoded data removed]",
      "text/plain": [
       "<Figure size 432x288 with 2 Axes>"
      ]
     },
     "metadata": {},
     "output_type": "display_data"
    }
   ],
   "source": [
    "import networkx as nx\n",
    "import matplotlib.pyplot as plt\n",
    "%matplotlib inline\n",
    "\n",
    "# First undirected graph\n",
    "G = nx.Graph()\n",
    "G.add_nodes_from(range(1, 6))\n",
    "\n",
    "G.add_edge(1, 2)\n",
    "G.add_edge(1, 3)\n",
    "G.add_edge(1, 4)\n",
    "G.add_edge(1, 6)\n",
    "\n",
    "G.add_edge(2, 3)\n",
    "G.add_edge(2, 4)\n",
    "\n",
    "G.add_edge(3, 6)\n",
    "\n",
    "# Second directed graph\n",
    "H = nx.DiGraph()\n",
    "H.add_nodes_from(G)\n",
    "H.add_edge(1, 2)\n",
    "\n",
    "H.add_edge(2, 3)\n",
    "H.add_edge(2, 4)\n",
    "\n",
    "H.add_edge(3, 1)\n",
    "H.add_edge(3, 2)\n",
    "\n",
    "H.add_edge(4, 1)\n",
    "\n",
    "H.add_edge(6, 1)\n",
    "H.add_edge(6, 3)\n",
    "\n",
    "\n",
    "plt.subplot(121)\n",
    "nx.draw(G, with_labels=True, font_weight='bold')\n",
    "\n",
    "plt.subplot(122)\n",
    "options = {\n",
    "    'node_color': 'blue'\n",
    "}\n",
    "nx.draw(H, with_labels=True, font_weight='bold', **options)\n",
    "plt.show()\n"
   ]
  },
  {
   "cell_type": "code",
   "execution_count": 13,
   "metadata": {},
   "outputs": [
    {
     "name": "stdout",
     "output_type": "stream",
     "text": [
      "Adjacency matrix for G\n",
      "[[0 1 1 1 0 1]\n",
      " [1 0 1 1 0 0]\n",
      " [1 1 0 0 0 1]\n",
      " [1 1 0 0 0 0]\n",
      " [0 0 0 0 0 0]\n",
      " [1 0 1 0 0 0]]\n",
      "\n",
      "Adjacency matrix for H\n",
      "[[0 1 0 0 0 0]\n",
      " [0 0 1 1 0 0]\n",
      " [1 1 0 0 0 0]\n",
      " [1 0 0 0 0 0]\n",
      " [0 0 0 0 0 0]\n",
      " [1 0 1 0 0 0]]\n"
     ]
    }
   ],
   "source": [
    "print('Adjacency matrix for G')\n",
    "print(nx.adjacency_matrix(G).todense())\n",
    "\n",
    "print('\\nAdjacency matrix for H')\n",
    "print(nx.adjacency_matrix(H).todense())"
   ]
  },
  {
   "cell_type": "code",
   "execution_count": 21,
   "metadata": {},
   "outputs": [
    {
     "name": "stdout",
     "output_type": "stream",
     "text": [
      "Linked list representation of the graph G\n",
      "Node 1 Egdes [(1, 2), (1, 3), (1, 4), (1, 6)]\n",
      "Node 2 Egdes [(2, 1), (2, 3), (2, 4)]\n",
      "Node 3 Egdes [(3, 1), (3, 2), (3, 6)]\n",
      "Node 4 Egdes [(4, 1), (4, 2)]\n",
      "Node 5 Egdes []\n",
      "Node 6 Egdes [(6, 1), (6, 3)]\n",
      "Linked list representation of the graph H. Only the out going endges is shown for each node\n",
      "Node 1 Outgoing edges [(1, 2)]\n",
      "Node 2 Outgoing edges [(2, 3), (2, 4)]\n",
      "Node 3 Outgoing edges [(3, 1), (3, 2)]\n",
      "Node 4 Outgoing edges [(4, 1)]\n",
      "Node 5 Outgoing edges []\n",
      "Node 6 Outgoing edges [(6, 1), (6, 3)]\n"
     ]
    }
   ],
   "source": [
    "print('Linked list representation of the graph G')\n",
    "for node in G.nodes():\n",
    "    print('Node', node, 'Egdes', G.edges(node))\n",
    "    \n",
    "print('Linked list representation of the graph H. Only the out going endges is shown for each node')\n",
    "for node in H.nodes():\n",
    "    print('Node', node, 'Outgoing edges', H.out_edges(node))"
   ]
  },
  {
   "cell_type": "markdown",
   "metadata": {},
   "source": [
    "### Clustering Coefficient \n",
    "\n",
    "The clustering coefficient for a given node can be calculated by \n",
    "$$ C_i = \\frac{2 L_i}{k_i (k_i -1)} $$\n",
    "\n",
    "The average clustering coefficient for a graph can be calculated by \n",
    "$$ \\langle C \\rangle = \\frac{1}{N} \\sum_{i = 1}^N{C_i} $$\n",
    "\n",
    "Or even simpler:"
   ]
  },
  {
   "cell_type": "code",
   "execution_count": 24,
   "metadata": {},
   "outputs": [
    {
     "name": "stdout",
     "output_type": "stream",
     "text": [
      "Average clustering coefficient for G 0.6388888888888888\n"
     ]
    }
   ],
   "source": [
    "print('Average clustering coefficient for G', nx.average_clustering(G))"
   ]
  },
  {
   "cell_type": "markdown",
   "metadata": {},
   "source": [
    "Switching the labels of node 5 and 6 will just switch there places in the adjacency matrix (assuming they keep their edges).\n",
    "The linked list representation have to be updated in all the places where 5 and 6 are, and simply change their labels around."
   ]
  },
  {
   "cell_type": "markdown",
   "metadata": {},
   "source": [
    "I would say you can infer the same kind of information from both representations of the graph."
   ]
  },
  {
   "cell_type": "code",
   "execution_count": 55,
   "metadata": {},
   "outputs": [
    {
     "name": "stdout",
     "output_type": "stream",
     "text": [
      "Paths with length 3 between node 1 and 3 in graph G\n",
      "[1, 2, 3, 6]\n",
      "[1, 3, 2, 4]\n",
      "[1, 4, 2, 3]\n",
      "[1, 6, 3, 2]\n"
     ]
    }
   ],
   "source": [
    "def findPaths(G, u, n):\n",
    "    if n == 0:\n",
    "        return [[u]]\n",
    "    paths = [[u] + path for neighbor in G.neighbors(u) for path in findPaths(G,neighbor, n - 1) if u not in path]\n",
    "    return paths\n",
    "\n",
    "print('Paths with length 3 between node 1 and 3 in graph G')\n",
    "for path in findPaths(G, 1, 3):\n",
    "    print(path)"
   ]
  },
  {
   "cell_type": "code",
   "execution_count": 56,
   "metadata": {},
   "outputs": [
    {
     "name": "stdout",
     "output_type": "stream",
     "text": [
      "Path with length 3 between node 1 and 3 in graph H\n"
     ]
    }
   ],
   "source": [
    "def findDirectedPaths(G, u, n):\n",
    "    if n == 0:\n",
    "        return [[u]]\n",
    "    paths = [[u] + path for _, neighbor in G.out_edges(u) for path in findPaths(G,neighbor, n - 1) if u not in path]\n",
    "    return paths\n",
    "\n",
    "print('Path with length 3 between node 1 and 3 in graph H')\n",
    "for path in findDirectedPaths(H, 1, 3):\n",
    "    print(path)"
   ]
  },
  {
   "cell_type": "markdown",
   "metadata": {},
   "source": [
    "The number of cycles with length 4"
   ]
  },
  {
   "cell_type": "code",
   "execution_count": 63,
   "metadata": {},
   "outputs": [],
   "source": [
    "# TODO"
   ]
  },
  {
   "cell_type": "markdown",
   "metadata": {},
   "source": [
    "## Bipartite graph"
   ]
  },
  {
   "cell_type": "code",
   "execution_count": 84,
   "metadata": {},
   "outputs": [
    {
     "data": {
      "image/png": "[encoded data removed]",
      "text/plain": [
       "<Figure size 432x288 with 1 Axes>"
      ]
     },
     "metadata": {},
     "output_type": "display_data"
    }
   ],
   "source": [
    "B = nx.Graph()\n",
    "B.add_nodes_from(range(1, 12))\n",
    "B.add_edge(1, 7)\n",
    "B.add_edge(2, 9)\n",
    "B.add_edge(3, 7)\n",
    "B.add_edge(3, 8)\n",
    "B.add_edge(3, 9)\n",
    "B.add_edge(4, 9)\n",
    "B.add_edge(4, 10)\n",
    "B.add_edge(5, 9)\n",
    "B.add_edge(5, 11)\n",
    "B.add_edge(6, 11)\n",
    "\n",
    "from networkx.algorithms import bipartite\n",
    "X, Y = bipartite.sets(B)\n",
    "pos = {}\n",
    "pos.update((n, (i, 2)) for i, n in enumerate(X))\n",
    "pos.update((n, (i, 1)) for i, n in enumerate(Y))\n",
    "\n",
    "plt.subplot(121)\n",
    "nx.draw(B, pos=pos, with_labels=True, font_weight='bold')\n",
    "plt.show()"
   ]
  },
  {
   "cell_type": "code",
   "execution_count": 83,
   "metadata": {},
   "outputs": [
    {
     "name": "stdout",
     "output_type": "stream",
     "text": [
      "[[0 0 0 0 0 0 1 0 0 0 0]\n",
      " [0 0 0 0 0 0 0 0 1 0 0]\n",
      " [0 0 0 0 0 0 1 1 1 0 0]\n",
      " [0 0 0 0 0 0 0 0 1 1 0]\n",
      " [0 0 0 0 0 0 0 0 1 0 1]\n",
      " [0 0 0 0 0 0 0 0 0 0 1]\n",
      " [1 0 1 0 0 0 0 0 0 0 0]\n",
      " [0 0 1 0 0 0 0 0 0 0 0]\n",
      " [0 1 1 1 1 0 0 0 0 0 0]\n",
      " [0 0 0 1 0 0 0 0 0 0 0]\n",
      " [0 0 0 0 1 1 0 0 0 0 0]]\n"
     ]
    }
   ],
   "source": [
    "print(nx.adjacency_matrix(B).todense())"
   ]
  },
  {
   "cell_type": "code",
   "execution_count": 99,
   "metadata": {},
   "outputs": [
    {
     "data": {
      "image/png": "[encoded data removed]",
      "text/plain": [
       "<Figure size 432x288 with 2 Axes>"
      ]
     },
     "metadata": {},
     "output_type": "display_data"
    }
   ],
   "source": [
    "plt.subplot(121)\n",
    "X_projected = bipartite.projected_graph(B, X)\n",
    "nx.draw(X_projected, with_labels=True)\n",
    "plt.subplot(122)\n",
    "options = { 'node_color': 'yellow' }\n",
    "Y_projected = bipartite.projected_graph(B, Y)\n",
    "nx.draw(Y_projected, with_labels=True, **options)\n",
    "plt.show()"
   ]
  },
  {
   "cell_type": "code",
   "execution_count": 100,
   "metadata": {},
   "outputs": [
    {
     "name": "stdout",
     "output_type": "stream",
     "text": [
      "Average degree of top nodes 1.6666666666666667\n",
      "Average degree of bottom nodes 2.0\n"
     ]
    }
   ],
   "source": [
    "def average_degree(G, nodes):\n",
    "    return sum([G.degree(node) for node in nodes]) / len(nodes)\n",
    "\n",
    "print('Average degree of top nodes', average_degree(B, X))\n",
    "print('Average degree of bottom nodes', average_degree(B, Y))"
   ]
  },
  {
   "cell_type": "code",
   "execution_count": 102,
   "metadata": {},
   "outputs": [
    {
     "name": "stdout",
     "output_type": "stream",
     "text": [
      "Average degree of top nodes in projected graph 2.6666666666666665\n",
      "Average degree of bottom nodes in projected graph 2.0\n"
     ]
    }
   ],
   "source": [
    "print('Average degree of top nodes in projected graph', average_degree(X_projected, X))\n",
    "print('Average degree of bottom nodes in projected graph', average_degree(Y_projected, Y))"
   ]
  },
  {
   "cell_type": "markdown",
   "metadata": {},
   "source": [
    "It make sense that the average degree changes, as nodes one edge to a node in the other set could result in many edges in the projection.\n",
    "Take the extrem example of having every node in the top set connected to the only one node in the other set, but all to the same. The average degree in the original graph is therefore one, where the average degree in the new one would be equal to the number of nodes in the top set."
   ]
  },
  {
   "cell_type": "code",
   "execution_count": null,
   "metadata": {},
   "outputs": [],
   "source": []
  }
 ],
 "metadata": {
  "kernelspec": {
   "display_name": "Python 3",
   "language": "python",
   "name": "python3"
  },
  "language_info": {
   "codemirror_mode": {
    "name": "ipython",
    "version": 3
   },
   "file_extension": ".py",
   "mimetype": "text/x-python",
   "name": "python",
   "nbconvert_exporter": "python",
   "pygments_lexer": "ipython3",
   "version": "3.7.0"
  }
 },
 "nbformat": 4,
 "nbformat_minor": 2
}
