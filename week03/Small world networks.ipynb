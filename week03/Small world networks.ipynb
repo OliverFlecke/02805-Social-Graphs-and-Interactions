{
 "cells": [
  {
   "cell_type": "markdown",
   "metadata": {},
   "source": [
    "# Small world networks"
   ]
  },
  {
   "cell_type": "markdown",
   "metadata": {},
   "source": [
    "What is the problem with random networks as a model for real-world networks according to the argument in section 3.5?\n",
    "\n",
    "All nodes in the network will have almost the same degree, hence there is no popular or unpopular individuals. This means there are a lot fewer shortcuts around the network.\n",
    "Real networks are much more clustered.\n",
    "\n",
    "## Regimens in random networks\n",
    "\n",
    "All of these are defined in terms of $\\langle k \\rangle$\n",
    "\n",
    "- **Subcritical regime**: $0 < \\langle k \\rangle < 1$ (also meaning $p < 1/N$)\n",
    "- **Critical point**: $\\langle k \\rangle = 1$ ($p = 1/N$)\n",
    "- **Supercritical regime**: $\\langle k \\rangle > 1$ ($p > 1/N$)\n",
    "- **Connected regime**: $\\langle k \\rangle > \\ln{N}$ ($p > \\ln{N} / N$)\n",
    "\n",
    "\n",
    "According to the book, why is it a problem for random networks (in terms of being a model for real-world networks) that the degree-dependent clustering C(k) decreases as a function of k in real-world networks?\n",
    "\n",
    "The clustering coefficient is independent of the nodes' degrees and instead are only dependent on the size of the system ($1/N$).\n",
    "For real networks it is the other way around, being dependent on the individual nodes and largely independent from the system size."
   ]
  },
  {
   "cell_type": "code",
   "execution_count": 14,
   "metadata": {},
   "outputs": [],
   "source": [
    "import matplotlib.pyplot as plt\n",
    "%matplotlib inline\n",
    "import networkx as nx\n",
    "import numpy as np"
   ]
  },
  {
   "cell_type": "code",
   "execution_count": 10,
   "metadata": {},
   "outputs": [],
   "source": [
    "N = 500\n",
    "k_mean = 4\n",
    "p = [0, 0.1, 1]\n",
    "\n",
    "# Generating the three graphs\n",
    "G = [nx.watts_strogatz_graph(N, k_mean, x) for x in p]"
   ]
  },
  {
   "cell_type": "markdown",
   "metadata": {},
   "source": [
    "### The *average shortest path length* of the four networks"
   ]
  },
  {
   "cell_type": "code",
   "execution_count": 12,
   "metadata": {},
   "outputs": [
    {
     "name": "stdout",
     "output_type": "stream",
     "text": [
      "[62.875751503006015, 7.603462925851703, 4.7582364729458915]\n"
     ]
    }
   ],
   "source": [
    "lengths = [nx.average_shortest_path_length(g) for g in G]\n",
    "print(lengths)"
   ]
  },
  {
   "cell_type": "markdown",
   "metadata": {},
   "source": [
    "When the probability increases, the average shortest path length goes down.\n",
    "This makes perfect sense as there are more edges in the network, hence more paths between each node pair."
   ]
  },
  {
   "cell_type": "code",
   "execution_count": 23,
   "metadata": {},
   "outputs": [
    {
     "name": "stdout",
     "output_type": "stream",
     "text": [
      "p: 0.1 d_mean: 7.79065\n",
      "p: 0.2 d_mean: 6.19986\n",
      "p: 0.3 d_mean: 5.63638\n",
      "p: 0.4 d_mean: 5.21101\n",
      "p: 0.5 d_mean: 4.98747\n",
      "p: 0.6 d_mean: 4.92623\n",
      "p: 0.7 d_mean: 4.79584\n",
      "p: 0.8 d_mean: 4.77365\n",
      "p: 0.9 d_mean: 4.76183\n",
      "p: 1.0 d_mean: 4.76635\n"
     ]
    }
   ],
   "source": [
    "for p in np.linspace(0.1, 1, 10):\n",
    "    g = nx.watts_strogatz_graph(N, k_mean, p)\n",
    "    d_mean = nx.average_shortest_path_length(g)\n",
    "    print('p: %.1f' % p, 'd_mean: %.5f' % d_mean)"
   ]
  },
  {
   "cell_type": "markdown",
   "metadata": {},
   "source": [
    "The average shortest path length for these networks approaches a fully random network around $p = 0.5$, where the difference is only $0.25$.\n",
    "Its gets even closer around $p = 0.7$, where the difference is only $0.03$"
   ]
  },
  {
   "cell_type": "code",
   "execution_count": 27,
   "metadata": {},
   "outputs": [],
   "source": [
    "p = [0, 0.01, 0.03, 0.05, 0.1, 0.2]\n",
    "\n",
    "G = []\n",
    "for x in p: \n",
    "    G.append([nx.watts_strogatz_graph(N, k_mean, x) for _ in range(50)])\n"
   ]
  },
  {
   "cell_type": "markdown",
   "metadata": {},
   "source": [
    "The calculations below are a bit time consuming, hence why each is done by itself to allow only to run at a time"
   ]
  },
  {
   "cell_type": "code",
   "execution_count": 32,
   "metadata": {},
   "outputs": [],
   "source": [
    "ds = []"
   ]
  },
  {
   "cell_type": "code",
   "execution_count": 35,
   "metadata": {},
   "outputs": [],
   "source": [
    "ds.append([nx.average_shortest_path_length(g) for g in G[0]])"
   ]
  },
  {
   "cell_type": "code",
   "execution_count": 36,
   "metadata": {},
   "outputs": [],
   "source": [
    "ds.append([nx.average_shortest_path_length(g) for g in G[1]])"
   ]
  },
  {
   "cell_type": "code",
   "execution_count": 37,
   "metadata": {},
   "outputs": [],
   "source": [
    "ds.append([nx.average_shortest_path_length(g) for g in G[2]])"
   ]
  },
  {
   "cell_type": "code",
   "execution_count": 38,
   "metadata": {},
   "outputs": [],
   "source": [
    "ds.append([nx.average_shortest_path_length(g) for g in G[3]])"
   ]
  },
  {
   "cell_type": "code",
   "execution_count": 39,
   "metadata": {},
   "outputs": [],
   "source": [
    "ds.append([nx.average_shortest_path_length(g) for g in G[4]])"
   ]
  },
  {
   "cell_type": "code",
   "execution_count": 40,
   "metadata": {},
   "outputs": [],
   "source": [
    "ds.append([nx.average_shortest_path_length(g) for g in G[5]])"
   ]
  },
  {
   "cell_type": "code",
   "execution_count": 41,
   "metadata": {},
   "outputs": [
    {
     "name": "stdout",
     "output_type": "stream",
     "text": [
      "0 Mean: 62.87575 STD: 0.00000\n",
      "1 Mean: 24.41895 STD: 5.16209\n",
      "2 Mean: 13.21220 STD: 1.34608\n",
      "3 Mean: 10.26109 STD: 0.80007\n",
      "4 Mean: 7.65380 STD: 0.24668\n",
      "5 Mean: 6.14136 STD: 0.12762\n"
     ]
    }
   ],
   "source": [
    "means = []\n",
    "stds = []\n",
    "\n",
    "for i, d  in enumerate(ds):\n",
    "    mean = np.mean(d)\n",
    "    std = np.std(d)\n",
    "    means.append(mean)\n",
    "    stds.append(std)\n",
    "    print(i, 'Mean: %.5f' % mean, 'STD: %.5f' % std)"
   ]
  },
  {
   "cell_type": "code",
   "execution_count": 55,
   "metadata": {},
   "outputs": [
    {
     "data": {
      "image/png": "[encoded data removed]",
      "text/plain": [
       "<Figure size 432x288 with 1 Axes>"
      ]
     },
     "metadata": {
      "needs_background": "light"
     },
     "output_type": "display_data"
    }
   ],
   "source": [
    "plt.errorbar(p, means, yerr=stds, fmt='-o', ecolor='red')\n",
    "plt.show()"
   ]
  },
  {
   "cell_type": "code",
   "execution_count": null,
   "metadata": {},
   "outputs": [],
   "source": []
  }
 ],
 "metadata": {
  "kernelspec": {
   "display_name": "Python 3",
   "language": "python",
   "name": "python3"
  },
  "language_info": {
   "codemirror_mode": {
    "name": "ipython",
    "version": 3
   },
   "file_extension": ".py",
   "mimetype": "text/x-python",
   "name": "python",
   "nbconvert_exporter": "python",
   "pygments_lexer": "ipython3",
   "version": "3.7.0"
  }
 },
 "nbformat": 4,
 "nbformat_minor": 2
}
